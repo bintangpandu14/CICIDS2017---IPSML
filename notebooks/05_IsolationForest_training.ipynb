{
 "cells": [
  {
   "cell_type": "code",
   "execution_count": null,
   "id": "7478276f",
   "metadata": {},
   "outputs": [],
   "source": [
    "### Ini gabungan dari library yang diapke buat coba coba (jadi gasepenuhnya dipake, ada juga yang disebut lagi di bawah) -- maklum namnanya coba coba\n",
    "\n",
    "import pandas as pd\n",
    "import numpy as np\n",
    "from sklearn.ensemble import IsolationForest\n",
    "from sklearn.model_selection import train_test_split\n",
    "from sklearn.metrics import (\n",
    "    confusion_matrix, classification_report,\n",
    "    roc_auc_score, precision_recall_curve, auc\n",
    ")\n",
    "import matplotlib.pyplot as plt\n",
    "import seaborn as sns\n",
    "import json\n",
    "from sklearn.metrics import roc_curve, auc\n",
    "from sklearn.metrics import precision_recall_curve, average_precision_score\n",
    "from sklearn.metrics import f1_score\n",
    "from sklearn.model_selection import GridSearchCV\n",
    "import itertools\n",
    "from sklearn.metrics import f1_score, precision_score, recall_score, roc_auc_score\n",
    "\n",
    "\n"
   ]
  },
  {
   "cell_type": "code",
   "execution_count": 47,
   "id": "252fc7b8",
   "metadata": {},
   "outputs": [
    {
     "name": "stdout",
     "output_type": "stream",
     "text": [
      "<class 'pandas.core.frame.DataFrame'>\n",
      "RangeIndex: 2768674 entries, 0 to 2768673\n",
      "Data columns (total 78 columns):\n",
      " #   Column                       Dtype  \n",
      "---  ------                       -----  \n",
      " 0   Destination_Port             float32\n",
      " 1   Flow_Duration                float32\n",
      " 2   Total_Fwd_Packets            float32\n",
      " 3   Total_Backward_Packets       float32\n",
      " 4   Total_Length_of_Fwd_Packets  float32\n",
      " 5   Total_Length_of_Bwd_Packets  float32\n",
      " 6   Fwd_Packet_Length_Max        float32\n",
      " 7   Fwd_Packet_Length_Min        float32\n",
      " 8   Fwd_Packet_Length_Mean       float32\n",
      " 9   Fwd_Packet_Length_Std        float32\n",
      " 10  Bwd_Packet_Length_Max        float32\n",
      " 11  Bwd_Packet_Length_Min        float32\n",
      " 12  Bwd_Packet_Length_Mean       float32\n",
      " 13  Bwd_Packet_Length_Std        float32\n",
      " 14  Flow_Bytes_s                 float32\n",
      " 15  Flow_Packets_s               float32\n",
      " 16  Flow_IAT_Mean                float32\n",
      " 17  Flow_IAT_Std                 float32\n",
      " 18  Flow_IAT_Max                 float32\n",
      " 19  Flow_IAT_Min                 float32\n",
      " 20  Fwd_IAT_Total                float32\n",
      " 21  Fwd_IAT_Mean                 float32\n",
      " 22  Fwd_IAT_Std                  float32\n",
      " 23  Fwd_IAT_Max                  float32\n",
      " 24  Fwd_IAT_Min                  float32\n",
      " 25  Bwd_IAT_Total                float32\n",
      " 26  Bwd_IAT_Mean                 float32\n",
      " 27  Bwd_IAT_Std                  float32\n",
      " 28  Bwd_IAT_Max                  float32\n",
      " 29  Bwd_IAT_Min                  float32\n",
      " 30  Fwd_PSH_Flags                float32\n",
      " 31  Bwd_PSH_Flags                float32\n",
      " 32  Fwd_URG_Flags                float32\n",
      " 33  Bwd_URG_Flags                float32\n",
      " 34  Fwd_Header_Length            float32\n",
      " 35  Bwd_Header_Length            float32\n",
      " 36  Fwd_Packets_s                float32\n",
      " 37  Bwd_Packets_s                float32\n",
      " 38  Min_Packet_Length            float32\n",
      " 39  Max_Packet_Length            float32\n",
      " 40  Packet_Length_Mean           float32\n",
      " 41  Packet_Length_Std            float32\n",
      " 42  Packet_Length_Variance       float32\n",
      " 43  FIN_Flag_Count               float32\n",
      " 44  SYN_Flag_Count               float32\n",
      " 45  RST_Flag_Count               float32\n",
      " 46  PSH_Flag_Count               float32\n",
      " 47  ACK_Flag_Count               float32\n",
      " 48  URG_Flag_Count               float32\n",
      " 49  CWE_Flag_Count               float32\n",
      " 50  ECE_Flag_Count               float32\n",
      " 51  Down_Up_Ratio                float32\n",
      " 52  Average_Packet_Size          float32\n",
      " 53  Avg_Fwd_Segment_Size         float32\n",
      " 54  Avg_Bwd_Segment_Size         float32\n",
      " 55  Fwd_Header_Length.1          float32\n",
      " 56  Fwd_Avg_Bytes_Bulk           float32\n",
      " 57  Fwd_Avg_Packets_Bulk         float32\n",
      " 58  Fwd_Avg_Bulk_Rate            float32\n",
      " 59  Bwd_Avg_Bytes_Bulk           float32\n",
      " 60  Bwd_Avg_Packets_Bulk         float32\n",
      " 61  Bwd_Avg_Bulk_Rate            float32\n",
      " 62  Subflow_Fwd_Packets          float32\n",
      " 63  Subflow_Fwd_Bytes            float32\n",
      " 64  Subflow_Bwd_Packets          float32\n",
      " 65  Subflow_Bwd_Bytes            float32\n",
      " 66  Init_Win_bytes_forward       float32\n",
      " 67  Init_Win_bytes_backward      float32\n",
      " 68  act_data_pkt_fwd             float32\n",
      " 69  min_seg_size_forward         float32\n",
      " 70  Active_Mean                  float32\n",
      " 71  Active_Std                   float32\n",
      " 72  Active_Max                   float32\n",
      " 73  Active_Min                   float32\n",
      " 74  Idle_Mean                    float32\n",
      " 75  Idle_Std                     float32\n",
      " 76  Idle_Max                     float32\n",
      " 77  Idle_Min                     float32\n",
      "dtypes: float32(78)\n",
      "memory usage: 823.8 MB\n"
     ]
    },
    {
     "data": {
      "text/plain": [
       "Label\n",
       "1    0.810092\n",
       "0    0.189908\n",
       "Name: proportion, dtype: float64"
      ]
     },
     "execution_count": 47,
     "metadata": {},
     "output_type": "execute_result"
    }
   ],
   "source": [
    "# Load data\n",
    "X = pd.read_csv(\"../data/processed/X_scaled.csv\", dtype='float32')\n",
    "y = pd.read_csv(\"../data/processed/y.csv\", dtype='int8').squeeze()\n",
    "X.info()\n",
    "y.value_counts(normalize=True)\n",
    "\n",
    "\n",
    "# Load selected features\n",
    "#with open(\"../data/processed/selected_features.json\") as f:\n",
    "#    selected_features = json.load(f)\n",
    "\n",
    "# Ambil kolom fitur terpilih\n",
    "#X_selected = X[selected_features]"
   ]
  },
  {
   "cell_type": "code",
   "execution_count": 50,
   "id": "fcb36bc9",
   "metadata": {},
   "outputs": [
    {
     "name": "stdout",
     "output_type": "stream",
     "text": [
      "\n",
      "=== FITUR YANG DIPERTAHANKAN ===\n",
      "['Destination_Port', 'Flow_Duration', 'Total_Fwd_Packets', 'Total_Backward_Packets', 'Total_Length_of_Fwd_Packets', 'Total_Length_of_Bwd_Packets', 'Fwd_Packet_Length_Max', 'Fwd_Packet_Length_Min', 'Fwd_Packet_Length_Mean', 'Fwd_Packet_Length_Std', 'Bwd_Packet_Length_Max', 'Bwd_Packet_Length_Min', 'Bwd_Packet_Length_Mean', 'Bwd_Packet_Length_Std', 'Flow_Bytes_s', 'Flow_Packets_s', 'Flow_IAT_Mean', 'Flow_IAT_Std', 'Flow_IAT_Max', 'Flow_IAT_Min', 'Fwd_IAT_Total', 'Fwd_IAT_Mean', 'Fwd_IAT_Std', 'Fwd_IAT_Max', 'Fwd_IAT_Min', 'Bwd_IAT_Total', 'Bwd_IAT_Mean', 'Bwd_IAT_Std', 'Bwd_IAT_Max', 'Bwd_IAT_Min', 'Fwd_PSH_Flags', 'Fwd_Header_Length', 'Bwd_Header_Length', 'Fwd_Packets_s', 'Bwd_Packets_s', 'Min_Packet_Length', 'Max_Packet_Length', 'Packet_Length_Mean', 'Packet_Length_Std', 'Packet_Length_Variance', 'FIN_Flag_Count', 'SYN_Flag_Count', 'PSH_Flag_Count', 'ACK_Flag_Count', 'URG_Flag_Count', 'Down_Up_Ratio', 'Average_Packet_Size', 'Avg_Fwd_Segment_Size', 'Avg_Bwd_Segment_Size', 'Fwd_Header_Length.1', 'Subflow_Fwd_Packets', 'Subflow_Fwd_Bytes', 'Subflow_Bwd_Packets', 'Subflow_Bwd_Bytes', 'Init_Win_bytes_forward', 'Init_Win_bytes_backward', 'act_data_pkt_fwd', 'min_seg_size_forward', 'Active_Mean', 'Active_Std', 'Active_Max', 'Active_Min', 'Idle_Mean', 'Idle_Std', 'Idle_Max', 'Idle_Min']\n",
      "\n",
      "=== FITUR YANG DIHAPUS (VARIANS < 0.01) ===\n",
      "['Bwd_PSH_Flags', 'Fwd_URG_Flags', 'Bwd_URG_Flags', 'RST_Flag_Count', 'CWE_Flag_Count', 'ECE_Flag_Count', 'Fwd_Avg_Bytes_Bulk', 'Fwd_Avg_Packets_Bulk', 'Fwd_Avg_Bulk_Rate', 'Bwd_Avg_Bytes_Bulk', 'Bwd_Avg_Packets_Bulk', 'Bwd_Avg_Bulk_Rate']\n",
      "\n",
      "Jumlah fitur awal: 78\n",
      "Jumlah fitur akhir: 66\n"
     ]
    }
   ],
   "source": [
    "from sklearn.feature_selection import VarianceThreshold\n",
    "\n",
    "sel = VarianceThreshold(threshold=0.01)\n",
    "X_var = sel.fit_transform(X)\n",
    "\n",
    "# ambil kolom yang lolos threshold\n",
    "selected_features = X.columns[sel.get_support()]\n",
    "removed_features = X.columns[~sel.get_support()]\n",
    "\n",
    "print(\"\\n=== FITUR YANG DIPERTAHANKAN ===\")\n",
    "print(selected_features.tolist())\n",
    "\n",
    "print(\"\\n=== FITUR YANG DIHAPUS (VARIANS < 0.01) ===\")\n",
    "print(removed_features.tolist())\n",
    "\n",
    "print(f\"\\nJumlah fitur awal: {X.shape[1]}\")\n",
    "print(f\"Jumlah fitur akhir: {X_var.shape[1]}\")\n"
   ]
  },
  {
   "cell_type": "code",
   "execution_count": 71,
   "id": "e5db222a",
   "metadata": {},
   "outputs": [
    {
     "name": "stdout",
     "output_type": "stream",
     "text": [
      "\n",
      "=== FITUR YANG DIHAPUS KARENA KORELASI TINGGI ===\n",
      "['Total_Backward_Packets', 'Total_Length_of_Bwd_Packets', 'Fwd_Packet_Length_Std', 'Bwd_Packet_Length_Mean', 'Bwd_Packet_Length_Std', 'Fwd_IAT_Total', 'Fwd_IAT_Max', 'Fwd_Packets_s', 'Packet_Length_Std', 'SYN_Flag_Count', 'Average_Packet_Size', 'Avg_Fwd_Segment_Size', 'Avg_Bwd_Segment_Size', 'Fwd_Header_Length.1', 'Subflow_Fwd_Packets', 'Subflow_Fwd_Bytes', 'Subflow_Bwd_Packets', 'Subflow_Bwd_Bytes', 'Idle_Mean', 'Idle_Max', 'Idle_Min']\n",
      "\n",
      "Jumlah fitur akhir setelah korelasi filter: 45\n"
     ]
    }
   ],
   "source": [
    "# === Ubah hasil VarianceThreshold ke DataFrame baru untuk korelasi ===\n",
    "X_var_df = pd.DataFrame(X_var, columns=selected_features)\n",
    "\n",
    "# === Cek korelasi antar fitur dan buang yang > 0.95 ===\n",
    "corr = X_var_df.corr().abs()\n",
    "upper = corr.where(np.triu(np.ones(corr.shape), k=1).astype(bool))\n",
    "to_drop = [column for column in upper.columns if any(upper[column] > 0.95)]\n",
    "\n",
    "# Buang fitur yang sangat berkorelasi\n",
    "X_filtered = X_var_df.drop(columns=to_drop)\n",
    "\n",
    "print(\"\\n=== FITUR YANG DIHAPUS KARENA KORELASI TINGGI ===\")\n",
    "print(to_drop)\n",
    "print(f\"\\nJumlah fitur akhir setelah korelasi filter: {X_filtered.shape[1]}\")"
   ]
  },
  {
   "cell_type": "code",
   "execution_count": 74,
   "id": "1d28c94d",
   "metadata": {},
   "outputs": [
    {
     "name": "stdout",
     "output_type": "stream",
     "text": [
      "\n",
      "Attack: 525794, Benign: 2242880\n"
     ]
    }
   ],
   "source": [
    "attack_count = (y == 0).sum()\n",
    "benign_count = (y == 1).sum()\n",
    "print(f\"\\nAttack: {attack_count}, Benign: {benign_count}\")"
   ]
  },
  {
   "cell_type": "code",
   "execution_count": 75,
   "id": "20c2ad76",
   "metadata": {},
   "outputs": [
    {
     "name": "stdout",
     "output_type": "stream",
     "text": [
      "Data train: (420635, 45)\n",
      "Data test : (553735, 45)\n"
     ]
    }
   ],
   "source": [
    "# Split data\n",
    "X_train, X_test, y_train, y_test = train_test_split(X_filtered, y, test_size=0.2, random_state=42, stratify=y)\n",
    "\n",
    "# Train hanya pada benign (0)\n",
    "X_train_benign = X_train[y_train == 0]\n",
    "\n",
    "print(\"Data train:\", X_train_benign.shape)\n",
    "print(\"Data test :\", X_test.shape)"
   ]
  },
  {
   "cell_type": "code",
   "execution_count": 76,
   "id": "cd360685",
   "metadata": {},
   "outputs": [],
   "source": [
    "# Model\n",
    "iso = IsolationForest(\n",
    "    n_estimators=300,\n",
    "    max_samples=1.0,\n",
    "    contamination=0.2,\n",
    "    bootstrap=True,\n",
    "    random_state=42,\n",
    "    n_jobs=-1\n",
    ")\n",
    "\n",
    "iso.fit(X_train_benign)\n",
    "\n",
    "# Prediksi\n",
    "y_pred = iso.predict(X_test)\n",
    "y_pred = np.where(y_pred == -1, 1, 0)  # -1 → attack, 1 → benign"
   ]
  },
  {
   "cell_type": "code",
   "execution_count": 77,
   "id": "c7b57704",
   "metadata": {},
   "outputs": [
    {
     "name": "stdout",
     "output_type": "stream",
     "text": [
      "=== HASIL MODEL DENGAN 45 FITUR (SETELAH CORR FILTER) ===\n",
      "[[ 84022  21137]\n",
      " [ 14844 433732]]\n",
      "              precision    recall  f1-score   support\n",
      "\n",
      "           0       0.85      0.80      0.82    105159\n",
      "           1       0.95      0.97      0.96    448576\n",
      "\n",
      "    accuracy                           0.94    553735\n",
      "   macro avg       0.90      0.88      0.89    553735\n",
      "weighted avg       0.93      0.94      0.93    553735\n",
      "\n",
      "F1: 0.9602 | Precision: 0.9535 | Recall: 0.9669 | ROC AUC: 0.8830\n"
     ]
    }
   ],
   "source": [
    "# Evaluasi\n",
    "print(\"=== HASIL MODEL DENGAN 45 FITUR (SETELAH CORR FILTER) ===\")\n",
    "print(confusion_matrix(y_test, y_pred))\n",
    "print(classification_report(y_test, y_pred))\n",
    "\n",
    "f1 = f1_score(y_test, y_pred)\n",
    "precision = precision_score(y_test, y_pred)\n",
    "recall = recall_score(y_test, y_pred)\n",
    "roc = roc_auc_score(y_test, y_pred)\n",
    "\n",
    "print(f\"F1: {f1:.4f} | Precision: {precision:.4f} | Recall: {recall:.4f} | ROC AUC: {roc:.4f}\")"
   ]
  },
  {
   "cell_type": "code",
   "execution_count": 81,
   "id": "7986f1fb",
   "metadata": {},
   "outputs": [
    {
     "name": "stdout",
     "output_type": "stream",
     "text": [
      "Train size: (2214939, 45) Test size: (553735, 45)\n",
      "Overlap: 0\n"
     ]
    }
   ],
   "source": [
    "print(\"Train size:\", X_train.shape, \"Test size:\", X_test.shape)\n",
    "print(\"Overlap:\", np.intersect1d(X_train.index, X_test.index).size)\n"
   ]
  },
  {
   "cell_type": "code",
   "execution_count": 85,
   "id": "ffc41d40",
   "metadata": {},
   "outputs": [
    {
     "name": "stdout",
     "output_type": "stream",
     "text": [
      "[[ 84022  21137]\n",
      " [ 14844 433732]]\n",
      "              precision    recall  f1-score   support\n",
      "\n",
      "           0       0.85      0.80      0.82    105159\n",
      "           1       0.95      0.97      0.96    448576\n",
      "\n",
      "    accuracy                           0.94    553735\n",
      "   macro avg       0.90      0.88      0.89    553735\n",
      "weighted avg       0.93      0.94      0.93    553735\n",
      "\n",
      "ROC AUC: 0.8829541138030023\n"
     ]
    }
   ],
   "source": [
    "from sklearn.metrics import classification_report, roc_auc_score, confusion_matrix\n",
    "\n",
    "print(confusion_matrix(y_test, y_pred))\n",
    "print(classification_report(y_test, y_pred))\n",
    "print(\"ROC AUC:\", roc_auc_score(y_test, y_pred))\n"
   ]
  },
  {
   "cell_type": "code",
   "execution_count": 91,
   "id": "7ebfaebe",
   "metadata": {},
   "outputs": [
    {
     "name": "stdout",
     "output_type": "stream",
     "text": [
      "=== CONFUSION MATRIX ===\n",
      "[[ 84022  21137]\n",
      " [ 14844 433732]]\n",
      "\n",
      "Detail Nilai:\n",
      "TP (True Positive)  : 433732\n",
      "FP (False Positive) : 21137\n",
      "FN (False Negative) : 14844\n",
      "TN (True Negative)  : 84022\n",
      "\n",
      "=== METRIK PERFORMA ===\n",
      "F1-score   : 0.9602\n",
      "Precision  : 0.9535\n",
      "Recall     : 0.9669\n",
      "ROC AUC    : 0.8830\n"
     ]
    },
    {
     "data": {
      "image/png": "[encoded data removed]",
      "text/plain": [
       "<Figure size 600x400 with 2 Axes>"
      ]
     },
     "metadata": {},
     "output_type": "display_data"
    }
   ],
   "source": [
    "from sklearn.metrics import confusion_matrix, classification_report, roc_auc_score, f1_score, precision_score, recall_score\n",
    "\n",
    "# Asumsi y_test dan y_pred sudah ada\n",
    "cm = confusion_matrix(y_test, y_pred)\n",
    "tn, fp, fn, tp = cm.ravel()\n",
    "\n",
    "print(\"=== CONFUSION MATRIX ===\")\n",
    "print(cm)\n",
    "\n",
    "print(\"\\nDetail Nilai:\")\n",
    "print(f\"TP (True Positive)  : {tp}\")\n",
    "print(f\"FP (False Positive) : {fp}\")\n",
    "print(f\"FN (False Negative) : {fn}\")\n",
    "print(f\"TN (True Negative)  : {tn}\")\n",
    "\n",
    "# Evaluasi lengkap\n",
    "f1 = f1_score(y_test, y_pred)\n",
    "precision = precision_score(y_test, y_pred)\n",
    "recall = recall_score(y_test, y_pred)\n",
    "roc = roc_auc_score(y_test, y_pred)\n",
    "\n",
    "print(\"\\n=== METRIK PERFORMA ===\")\n",
    "print(f\"F1-score   : {f1:.4f}\")\n",
    "print(f\"Precision  : {precision:.4f}\")\n",
    "print(f\"Recall     : {recall:.4f}\")\n",
    "print(f\"ROC AUC    : {roc:.4f}\")\n",
    "\n",
    "# Visualisasi confusion matrix\n",
    "import seaborn as sns\n",
    "import matplotlib.pyplot as plt\n",
    "\n",
    "plt.figure(figsize=(6, 4))\n",
    "sns.heatmap(cm, annot=True, fmt=\"d\", cmap=\"Blues\", xticklabels=[\"Attack (0)\", \"Benign (1)\"], yticklabels=[\"Attack (0)\", \"Benign (1)\"])\n",
    "plt.xlabel(\"Predicted Label\")\n",
    "plt.ylabel(\"True Label\")\n",
    "plt.title(\"Confusion Matrix - Isolation Forest (45 Fitur)\")\n",
    "plt.show()\n"
   ]
  },
  {
   "cell_type": "code",
   "execution_count": 106,
   "id": "67aea0e8",
   "metadata": {},
   "outputs": [
    {
     "name": "stdout",
     "output_type": "stream",
     "text": [
      "Attack mean: -0.4762\n",
      "Benign mean: -0.3635\n",
      "Attack std : 0.0683\n",
      "Benign std : 0.0343\n"
     ]
    },
    {
     "data": {
      "image/png": "[encoded data removed]",
      "text/plain": [
       "<Figure size 800x500 with 1 Axes>"
      ]
     },
     "metadata": {},
     "output_type": "display_data"
    }
   ],
   "source": [
    "# Hitung anomaly score\n",
    "scores = iso.score_samples(X_test)\n",
    "\n",
    "# Pisahkan berdasarkan label asli (misal y_test)\n",
    "scores_attack = scores[y_test == 1]  # sesuaikan label attack = 1\n",
    "scores_benign = scores[y_test == 0]  # label benign = 0\n",
    "\n",
    "# Statistik\n",
    "print(f\"Attack mean: {scores_attack.mean():.4f}\")\n",
    "print(f\"Benign mean: {scores_benign.mean():.4f}\")\n",
    "print(f\"Attack std : {scores_attack.std():.4f}\")\n",
    "print(f\"Benign std : {scores_benign.std():.4f}\")\n",
    "\n",
    "# Visualisasi\n",
    "import matplotlib.pyplot as plt\n",
    "\n",
    "plt.figure(figsize=(8,5))\n",
    "plt.hist(scores_attack, bins=50, color='tomato', alpha=0.6, label='Attack')\n",
    "plt.hist(scores_benign, bins=50, color='cornflowerblue', alpha=0.6, label='Benign')\n",
    "plt.title(\"Distribusi Anomaly Score Isolation Forest\")\n",
    "plt.xlabel(\"Anomaly Score\")\n",
    "plt.ylabel(\"Frekuensi\")\n",
    "plt.legend()\n",
    "plt.show()\n"
   ]
  },
  {
   "cell_type": "code",
   "execution_count": 107,
   "id": "53fa7277",
   "metadata": {},
   "outputs": [
    {
     "name": "stdout",
     "output_type": "stream",
     "text": [
      "Adjusted Rand Index: 0.8581228876346514\n"
     ]
    }
   ],
   "source": [
    "from sklearn.metrics import adjusted_rand_score\n",
    "\n",
    "model1 = IsolationForest(random_state=42).fit(X)\n",
    "model2 = IsolationForest(random_state=99).fit(X)\n",
    "y1 = model1.predict(X)\n",
    "y2 = model2.predict(X)\n",
    "\n",
    "ari = adjusted_rand_score(y1, y2)\n",
    "print(\"Adjusted Rand Index:\", ari)\n"
   ]
  },
  {
   "cell_type": "markdown",
   "id": "6aa18f0a",
   "metadata": {},
   "source": [
    "## Validasi Kemampuan IsoForest\n",
    "### Konsep utama\n",
    "\n",
    "#### Isolation Forest hanya dilatih pada data normal (benign).\n",
    "#### Saat diberikan data baru:\n",
    "\n",
    "- Data yang mirip dengan training → skor tinggi → dianggap normal\n",
    "\n",
    "- Data yang berbeda signifikan → skor rendah → dianggap anomaly\n",
    "\n",
    "#### Ini artinya: model generalisasi ke data baru, selama distribusi anomali berbeda dari data normal."
   ]
  },
  {
   "cell_type": "code",
   "execution_count": 108,
   "id": "719dbfc2",
   "metadata": {},
   "outputs": [],
   "source": [
    "# ===== DATA BENIGN (normal) =====\n",
    "np.random.seed(42)\n",
    "X_train_benign = np.random.normal(0, 1, size=(200, 2))  # data 2D normal"
   ]
  },
  {
   "cell_type": "code",
   "execution_count": 110,
   "id": "98a170fe",
   "metadata": {},
   "outputs": [],
   "source": [
    "# ===== DATA BARU =====\n",
    "X_test_benign = np.random.normal(0, 1, size=(50, 2))     # data normal baru\n",
    "X_test_attack = np.random.normal(5, 1, size=(50, 2))     # data anomali baru\n",
    "\n",
    "X_test = np.vstack([X_test_benign, X_test_attack])\n",
    "y_test = np.array([0]*50 + [1]*50)  # 0=benign, 1=attack"
   ]
  },
  {
   "cell_type": "code",
   "execution_count": 111,
   "id": "e3101f0b",
   "metadata": {},
   "outputs": [],
   "source": [
    "# ===== ISOLATION FOREST =====\n",
    "iso = IsolationForest(contamination=0.2, random_state=42)\n",
    "iso.fit(X_train_benign)  # hanya belajar data normal\n",
    "\n",
    "scores = iso.score_samples(X_test)"
   ]
  },
  {
   "cell_type": "code",
   "execution_count": 112,
   "id": "14bb1f07",
   "metadata": {},
   "outputs": [
    {
     "name": "stdout",
     "output_type": "stream",
     "text": [
      "Benign mean: -0.4781, std: 0.0742\n",
      "Attack mean: -0.7526, std: 0.0158\n"
     ]
    }
   ],
   "source": [
    "# ===== Statistik =====\n",
    "scores_benign = scores[y_test==0]\n",
    "scores_attack = scores[y_test==1]\n",
    "\n",
    "print(f\"Benign mean: {scores_benign.mean():.4f}, std: {scores_benign.std():.4f}\")\n",
    "print(f\"Attack mean: {scores_attack.mean():.4f}, std: {scores_attack.std():.4f}\")"
   ]
  },
  {
   "cell_type": "code",
   "execution_count": 113,
   "id": "db8e8a2d",
   "metadata": {},
   "outputs": [
    {
     "data": {
      "image/png": "[encoded data removed]",
      "text/plain": [
       "<Figure size 800x500 with 1 Axes>"
      ]
     },
     "metadata": {},
     "output_type": "display_data"
    }
   ],
   "source": [
    "# ===== Visualisasi =====\n",
    "plt.figure(figsize=(8,5))\n",
    "plt.hist(scores_benign, bins=30, color='cornflowerblue', alpha=0.6, label='Benign')\n",
    "plt.hist(scores_attack, bins=30, color='tomato', alpha=0.6, label='Attack')\n",
    "plt.axvline(scores_benign.mean(), color='blue', linestyle='dashed', linewidth=1)\n",
    "plt.axvline(scores_attack.mean(), color='red', linestyle='dashed', linewidth=1)\n",
    "plt.title(\"Anomaly Score Isolation Forest untuk Data Baru\")\n",
    "plt.xlabel(\"Anomaly Score\")\n",
    "plt.ylabel(\"Frekuensi\")\n",
    "plt.legend()\n",
    "plt.show()"
   ]
  }
 ],
 "metadata": {
  "kernelspec": {
   "display_name": "venv",
   "language": "python",
   "name": "python3"
  },
  "language_info": {
   "codemirror_mode": {
    "name": "ipython",
    "version": 3
   },
   "file_extension": ".py",
   "mimetype": "text/x-python",
   "name": "python",
   "nbconvert_exporter": "python",
   "pygments_lexer": "ipython3",
   "version": "3.13.5"
  }
 },
 "nbformat": 4,
 "nbformat_minor": 5
}
